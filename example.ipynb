{
 "cells": [
  {
   "cell_type": "markdown",
   "id": "fd86168b",
   "metadata": {},
   "source": [
    "#### Haters says Hawkeye is stroger than Shanks"
   ]
  },
  {
   "cell_type": "code",
   "execution_count": 2,
   "id": "97898bc9",
   "metadata": {},
   "outputs": [
    {
     "name": "stdout",
     "output_type": "stream",
     "text": [
      "1 dollar * 100k =  8597000.0 rupees\n"
     ]
    }
   ],
   "source": [
    "print('1 dollar * 100k = ',100000*85.97, \"rupees\")"
   ]
  },
  {
   "cell_type": "code",
   "execution_count": 4,
   "id": "25b45d2d",
   "metadata": {},
   "outputs": [
    {
     "ename": "SyntaxError",
     "evalue": "invalid syntax (1181894571.py, line 1)",
     "output_type": "error",
     "traceback": [
      "  \u001b[36mCell\u001b[39m\u001b[36m \u001b[39m\u001b[32mIn[4]\u001b[39m\u001b[32m, line 1\u001b[39m\n\u001b[31m    \u001b[39m\u001b[31mfrom scikit-learn.tree import DecisionTreeClassifier\u001b[39m\n               ^\n\u001b[31mSyntaxError\u001b[39m\u001b[31m:\u001b[39m invalid syntax\n"
     ]
    }
   ],
   "source": [
    "from scikit-learn.tree import DecisionTreeClassifier\n",
    "\n",
    "# Sample demonstration for classification of veggies using scikit-learn\n",
    "\n",
    "\n",
    "# Sample data: [color (0=green, 1=red), size (0=small, 1=large)]\n",
    "X = [\n",
    "    [0, 0],  # green, small\n",
    "    [0, 1],  # green, large\n",
    "    [1, 0],  # red, small\n",
    "    [1, 1],  # red, large\n",
    "]\n",
    "y = ['cucumber', 'pumpkin', 'tomato', 'watermelon']  # veggie labels\n",
    "\n",
    "clf = DecisionTreeClassifier()\n",
    "clf.fit(X, y)\n",
    "\n",
    "# Predict the class of a new veggie: green and large\n",
    "prediction = clf.predict([[0, 1]])\n",
    "print(\"Predicted veggie:\", prediction[0])"
   ]
  },
  {
   "cell_type": "code",
   "execution_count": null,
   "id": "bb0d6686",
   "metadata": {},
   "outputs": [],
   "source": []
  }
 ],
 "metadata": {
  "kernelspec": {
   "display_name": ".venv",
   "language": "python",
   "name": "python3"
  },
  "language_info": {
   "codemirror_mode": {
    "name": "ipython",
    "version": 3
   },
   "file_extension": ".py",
   "mimetype": "text/x-python",
   "name": "python",
   "nbconvert_exporter": "python",
   "pygments_lexer": "ipython3",
   "version": "3.12.5"
  }
 },
 "nbformat": 4,
 "nbformat_minor": 5
}
